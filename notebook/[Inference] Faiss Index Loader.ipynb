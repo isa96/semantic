{
 "cells": [
  {
   "cell_type": "code",
   "execution_count": 11,
   "metadata": {},
   "outputs": [],
   "source": [
    "# Load libraries\n",
    "import json\n",
    "import faiss\n",
    "from typing import List \n",
    "from sentence_transformers import SentenceTransformer"
   ]
  },
  {
   "cell_type": "code",
   "execution_count": 19,
   "metadata": {},
   "outputs": [
    {
     "data": {
      "text/plain": [
       "'2.2.2'"
      ]
     },
     "execution_count": 19,
     "metadata": {},
     "output_type": "execute_result"
    }
   ],
   "source": [
    "import sentence_transformers \n",
    "\n",
    "sentence_transformers.__version__"
   ]
  },
  {
   "cell_type": "code",
   "execution_count": 12,
   "metadata": {},
   "outputs": [],
   "source": [
    "# Load pretrained model \n",
    "model = SentenceTransformer(\"msmarco-MiniLM-L-6-v3\")"
   ]
  },
  {
   "cell_type": "code",
   "execution_count": 13,
   "metadata": {},
   "outputs": [],
   "source": [
    "# Load Mapping Corpus\n",
    "data_maps = json.load(open('corpus/self-declare.json', 'r'))"
   ]
  },
  {
   "cell_type": "code",
   "execution_count": 14,
   "metadata": {},
   "outputs": [],
   "source": [
    "# Load index Faiss\n",
    "index = faiss.read_index(\"corpus/self-declare.index\")"
   ]
  },
  {
   "cell_type": "code",
   "execution_count": 15,
   "metadata": {},
   "outputs": [],
   "source": [
    "# Create function to indexing results\n",
    "def fetch_product(idx: int, query: str, df: List = data_maps):\n",
    "    result = {}\n",
    "    result[\"query\"] = query\n",
    "    try:\n",
    "        info = df[idx]\n",
    "        result[\"nama_produk_terdekat\"]    = info['Nama Produk / Rincian']\n",
    "        result[\"prediksi_jenis\"] = info[\"Jenis Produk\"]\n",
    "        result[\"prediksi_kbli\"]  = info[\"Kode KBLI\"]\n",
    "        result[\"message\"]        = \"Prediction Success\"\n",
    "    except IndexError:\n",
    "        result[\"nama_produk_terdekat\"]    = \"\"\n",
    "        result[\"prediksi_jenis\"] = \"\"\n",
    "        result[\"prediksi_kbli\"]  = \"\"\n",
    "        result[\"message\"]        = \"Prediction Failed \"\n",
    "    return result\n",
    "\n",
    "def search(query: str, index_vector: object = index, model_embedding: object = model):\n",
    "    query_vector = model_embedding.encode([query])\n",
    "    selected_idx = index_vector.search(query_vector, k = 1)\n",
    "    selected_idx = selected_idx[1].tolist()[0][0]\n",
    "    result = [fetch_product(selected_idx, query)]\n",
    "    return result"
   ]
  },
  {
   "cell_type": "code",
   "execution_count": 18,
   "metadata": {},
   "outputs": [
    {
     "name": "stdout",
     "output_type": "stream",
     "text": [
      "[{'query': 'Kacang 2 Kelinci', 'nama_produk_terdekat': 'KACANG KELINCI', 'prediksi_jenis': 'Makanan ringan siap santap', 'prediksi_kbli': 10793, 'message': 'Prediction Success'}]\n",
      "CPU times: total: 78.1 ms\n",
      "Wall time: 30 ms\n"
     ]
    }
   ],
   "source": [
    "%%time\n",
    "# Test result\n",
    "nama_produk_test = \"Kacang 2 Kelinci\"\n",
    "result_prediction = search(nama_produk_test)\n",
    "\n",
    "print(result_prediction)"
   ]
  }
 ],
 "metadata": {
  "kernelspec": {
   "display_name": "Python 3 (ipykernel)",
   "language": "python",
   "name": "python3"
  },
  "language_info": {
   "codemirror_mode": {
    "name": "ipython",
    "version": 3
   },
   "file_extension": ".py",
   "mimetype": "text/x-python",
   "name": "python",
   "nbconvert_exporter": "python",
   "pygments_lexer": "ipython3",
   "version": "3.9.7"
  }
 },
 "nbformat": 4,
 "nbformat_minor": 2
}
