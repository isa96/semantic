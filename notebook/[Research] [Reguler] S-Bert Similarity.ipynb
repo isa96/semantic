{
 "cells": [
  {
   "cell_type": "code",
   "execution_count": 2,
   "metadata": {},
   "outputs": [],
   "source": [
    "# Load libraries \n",
    "import os\n",
    "import faiss\n",
    "import numpy as np\n",
    "import pandas as pd \n",
    "from time import time\n",
    "import seaborn as sns\n",
    "from typing import Union\n",
    "import matplotlib.pyplot as plt\n",
    "from sentence_transformers import SentenceTransformer"
   ]
  },
  {
   "cell_type": "code",
   "execution_count": 3,
   "metadata": {},
   "outputs": [],
   "source": [
    "# Set visualisation style\n",
    "plt.style.use(\"ggplot\")"
   ]
  },
  {
   "cell_type": "code",
   "execution_count": 4,
   "metadata": {},
   "outputs": [],
   "source": [
    "# Load pretrained model \n",
    "model = SentenceTransformer(\"msmarco-MiniLM-L-6-v3\")"
   ]
  },
  {
   "cell_type": "code",
   "execution_count": 5,
   "metadata": {},
   "outputs": [],
   "source": [
    "# Define required columns\n",
    "required_column = ['Nama Produk / Rincian', 'Kode KBLI', 'Jenis Produk']"
   ]
  },
  {
   "cell_type": "code",
   "execution_count": 9,
   "metadata": {},
   "outputs": [],
   "source": [
    "# Load training dataset - v3\n",
    "data_train = pd.read_excel(\"../dataset/v3/kbli_prediksi_jenis_training_set_v2.xlsx\", usecols = required_column)\n",
    "data_test = pd.read_excel(\"../dataset/v3/kbli_prediksi_jenis_testing_set_v2.xlsx\", usecols = required_column)"
   ]
  },
  {
   "cell_type": "code",
   "execution_count": 10,
   "metadata": {},
   "outputs": [
    {
     "data": {
      "text/html": [
       "<div>\n",
       "<style scoped>\n",
       "    .dataframe tbody tr th:only-of-type {\n",
       "        vertical-align: middle;\n",
       "    }\n",
       "\n",
       "    .dataframe tbody tr th {\n",
       "        vertical-align: top;\n",
       "    }\n",
       "\n",
       "    .dataframe thead th {\n",
       "        text-align: right;\n",
       "    }\n",
       "</style>\n",
       "<table border=\"1\" class=\"dataframe\">\n",
       "  <thead>\n",
       "    <tr style=\"text-align: right;\">\n",
       "      <th></th>\n",
       "      <th>Jenis Produk</th>\n",
       "      <th>Nama Produk / Rincian</th>\n",
       "      <th>Kode KBLI</th>\n",
       "    </tr>\n",
       "  </thead>\n",
       "  <tbody>\n",
       "  </tbody>\n",
       "</table>\n",
       "</div>"
      ],
      "text/plain": [
       "Empty DataFrame\n",
       "Columns: [Jenis Produk, Nama Produk / Rincian, Kode KBLI]\n",
       "Index: []"
      ]
     },
     "execution_count": 10,
     "metadata": {},
     "output_type": "execute_result"
    }
   ],
   "source": [
    "# Clean KBLI and Jenis Produk\n",
    "data_train[data_train['Kode KBLI'].apply(lambda x: len(str(x).split(\",\")) > 1 or len(str(x).strip()) == 0)]"
   ]
  },
  {
   "cell_type": "code",
   "execution_count": 11,
   "metadata": {},
   "outputs": [
    {
     "data": {
      "text/plain": [
       "[]"
      ]
     },
     "execution_count": 11,
     "metadata": {},
     "output_type": "execute_result"
    }
   ],
   "source": [
    "data_train[data_train['Kode KBLI'].apply(lambda x: len(str(x).split(\",\")) > 1 or len(str(x).strip()) == 0)].to_dict(\"records\")"
   ]
  },
  {
   "cell_type": "code",
   "execution_count": 12,
   "metadata": {},
   "outputs": [
    {
     "data": {
      "text/html": [
       "<div>\n",
       "<style scoped>\n",
       "    .dataframe tbody tr th:only-of-type {\n",
       "        vertical-align: middle;\n",
       "    }\n",
       "\n",
       "    .dataframe tbody tr th {\n",
       "        vertical-align: top;\n",
       "    }\n",
       "\n",
       "    .dataframe thead th {\n",
       "        text-align: right;\n",
       "    }\n",
       "</style>\n",
       "<table border=\"1\" class=\"dataframe\">\n",
       "  <thead>\n",
       "    <tr style=\"text-align: right;\">\n",
       "      <th></th>\n",
       "      <th>Jenis Produk</th>\n",
       "      <th>Nama Produk / Rincian</th>\n",
       "      <th>Kode KBLI</th>\n",
       "    </tr>\n",
       "  </thead>\n",
       "  <tbody>\n",
       "  </tbody>\n",
       "</table>\n",
       "</div>"
      ],
      "text/plain": [
       "Empty DataFrame\n",
       "Columns: [Jenis Produk, Nama Produk / Rincian, Kode KBLI]\n",
       "Index: []"
      ]
     },
     "execution_count": 12,
     "metadata": {},
     "output_type": "execute_result"
    }
   ],
   "source": [
    "# Validate Kode KBLI\n",
    "data_train[data_train['Kode KBLI'].apply(lambda x: len(str(x).split(\",\")) > 1)]"
   ]
  },
  {
   "cell_type": "code",
   "execution_count": 13,
   "metadata": {},
   "outputs": [],
   "source": [
    "# Convert Kode KBLI into \"int\"\n",
    "data_train['Kode KBLI'] = data_train['Kode KBLI'].astype(int)"
   ]
  },
  {
   "cell_type": "code",
   "execution_count": 14,
   "metadata": {},
   "outputs": [
    {
     "name": "stdout",
     "output_type": "stream",
     "text": [
      "<class 'pandas.core.frame.DataFrame'>\n",
      "RangeIndex: 1112 entries, 0 to 1111\n",
      "Data columns (total 3 columns):\n",
      " #   Column                 Non-Null Count  Dtype \n",
      "---  ------                 --------------  ----- \n",
      " 0   Jenis Produk           1112 non-null   object\n",
      " 1   Nama Produk / Rincian  1112 non-null   object\n",
      " 2   Kode KBLI              1112 non-null   int32 \n",
      "dtypes: int32(1), object(2)\n",
      "memory usage: 21.8+ KB\n"
     ]
    }
   ],
   "source": [
    "data_train.info()"
   ]
  },
  {
   "cell_type": "code",
   "execution_count": 15,
   "metadata": {},
   "outputs": [
    {
     "name": "stdout",
     "output_type": "stream",
     "text": [
      "<class 'pandas.core.frame.DataFrame'>\n",
      "RangeIndex: 278 entries, 0 to 277\n",
      "Data columns (total 3 columns):\n",
      " #   Column                 Non-Null Count  Dtype \n",
      "---  ------                 --------------  ----- \n",
      " 0   Jenis Produk           278 non-null    object\n",
      " 1   Nama Produk / Rincian  278 non-null    object\n",
      " 2   Kode KBLI              278 non-null    int64 \n",
      "dtypes: int64(1), object(2)\n",
      "memory usage: 6.6+ KB\n"
     ]
    }
   ],
   "source": [
    "data_test.info()"
   ]
  },
  {
   "cell_type": "code",
   "execution_count": 16,
   "metadata": {},
   "outputs": [],
   "source": [
    "# Concat dataset and remove duplicate\n",
    "data_train = pd.concat([data_train, data_test]).drop_duplicates().reset_index()"
   ]
  },
  {
   "cell_type": "code",
   "execution_count": 17,
   "metadata": {},
   "outputs": [],
   "source": [
    "# Create training dataset into hashmaps\n",
    "data_train_maps = data_train.to_dict(\"records\")"
   ]
  },
  {
   "cell_type": "code",
   "execution_count": 18,
   "metadata": {},
   "outputs": [
    {
     "data": {
      "text/html": [
       "<div>\n",
       "<style scoped>\n",
       "    .dataframe tbody tr th:only-of-type {\n",
       "        vertical-align: middle;\n",
       "    }\n",
       "\n",
       "    .dataframe tbody tr th {\n",
       "        vertical-align: top;\n",
       "    }\n",
       "\n",
       "    .dataframe thead th {\n",
       "        text-align: right;\n",
       "    }\n",
       "</style>\n",
       "<table border=\"1\" class=\"dataframe\">\n",
       "  <thead>\n",
       "    <tr style=\"text-align: right;\">\n",
       "      <th></th>\n",
       "      <th>index</th>\n",
       "      <th>Jenis Produk</th>\n",
       "      <th>Nama Produk / Rincian</th>\n",
       "      <th>Kode KBLI</th>\n",
       "    </tr>\n",
       "  </thead>\n",
       "  <tbody>\n",
       "    <tr>\n",
       "      <th>0</th>\n",
       "      <td>0</td>\n",
       "      <td>Bahan tambahan pangan</td>\n",
       "      <td>Kalium hidrogen tartrat</td>\n",
       "      <td>20119</td>\n",
       "    </tr>\n",
       "    <tr>\n",
       "      <th>1</th>\n",
       "      <td>1</td>\n",
       "      <td>Ikan  dan  produk perikanan, termasuk moluska,...</td>\n",
       "      <td>Ikan presto</td>\n",
       "      <td>10212</td>\n",
       "    </tr>\n",
       "    <tr>\n",
       "      <th>2</th>\n",
       "      <td>2</td>\n",
       "      <td>Daging dan produk olahan daging</td>\n",
       "      <td>Daging kering unggas atau mamalia</td>\n",
       "      <td>10130</td>\n",
       "    </tr>\n",
       "    <tr>\n",
       "      <th>3</th>\n",
       "      <td>3</td>\n",
       "      <td>Susu dan analognya</td>\n",
       "      <td>Keju olahan berperisa</td>\n",
       "      <td>10590</td>\n",
       "    </tr>\n",
       "    <tr>\n",
       "      <th>4</th>\n",
       "      <td>4</td>\n",
       "      <td>Pangan olahan untuk keperluan gizi khusus</td>\n",
       "      <td>Pangan  olahan  diet  khusus  untuk  mengontro...</td>\n",
       "      <td>10799</td>\n",
       "    </tr>\n",
       "  </tbody>\n",
       "</table>\n",
       "</div>"
      ],
      "text/plain": [
       "   index                                       Jenis Produk  \\\n",
       "0      0                              Bahan tambahan pangan   \n",
       "1      1  Ikan  dan  produk perikanan, termasuk moluska,...   \n",
       "2      2                    Daging dan produk olahan daging   \n",
       "3      3                                 Susu dan analognya   \n",
       "4      4          Pangan olahan untuk keperluan gizi khusus   \n",
       "\n",
       "                               Nama Produk / Rincian  Kode KBLI  \n",
       "0                            Kalium hidrogen tartrat      20119  \n",
       "1                                        Ikan presto      10212  \n",
       "2                  Daging kering unggas atau mamalia      10130  \n",
       "3                              Keju olahan berperisa      10590  \n",
       "4  Pangan  olahan  diet  khusus  untuk  mengontro...      10799  "
      ]
     },
     "execution_count": 18,
     "metadata": {},
     "output_type": "execute_result"
    }
   ],
   "source": [
    "# Overview dataset\n",
    "data_train.head()"
   ]
  },
  {
   "cell_type": "code",
   "execution_count": 19,
   "metadata": {},
   "outputs": [
    {
     "data": {
      "text/plain": [
       "(1390, 4)"
      ]
     },
     "execution_count": 19,
     "metadata": {},
     "output_type": "execute_result"
    }
   ],
   "source": [
    "# Check dimension\n",
    "data_train.shape"
   ]
  },
  {
   "cell_type": "code",
   "execution_count": 20,
   "metadata": {},
   "outputs": [
    {
     "data": {
      "text/plain": [
       "index                    0\n",
       "Jenis Produk             0\n",
       "Nama Produk / Rincian    0\n",
       "Kode KBLI                0\n",
       "dtype: int64"
      ]
     },
     "execution_count": 20,
     "metadata": {},
     "output_type": "execute_result"
    }
   ],
   "source": [
    "# Overview missing values\n",
    "data_train.isna().sum()"
   ]
  },
  {
   "cell_type": "code",
   "execution_count": 21,
   "metadata": {},
   "outputs": [],
   "source": [
    "# Overview Sentence Length\n",
    "sentence_length = data_train['Nama Produk / Rincian'].apply(\n",
    "    lambda sentence: len(sentence.split())\n",
    ").tolist()\n",
    "max_sentence_length = np.round(np.mean(sentence_length) + np.std(sentence_length)).astype(\"int\")"
   ]
  },
  {
   "cell_type": "code",
   "execution_count": 23,
   "metadata": {},
   "outputs": [
    {
     "name": "stderr",
     "output_type": "stream",
     "text": [
      "C:\\Users\\alif\\anaconda3\\envs\\test\\lib\\site-packages\\seaborn\\distributions.py:2619: FutureWarning: `distplot` is a deprecated function and will be removed in a future version. Please adapt your code to use either `displot` (a figure-level function with similar flexibility) or `histplot` (an axes-level function for histograms).\n",
      "  warnings.warn(msg, FutureWarning)\n"
     ]
    },
    {
     "data": {
      "image/png": "[encoded data removed]",
      "text/plain": [
       "<Figure size 1440x360 with 1 Axes>"
      ]
     },
     "metadata": {
      "needs_background": "light"
     },
     "output_type": "display_data"
    }
   ],
   "source": [
    "# Visualize density of sentence length distribution\n",
    "plt.figure(figsize = (20, 5))\n",
    "sns.distplot(sentence_length, hist = True, kde = True, color = \"blue\", label = \"Sentence Length\")\n",
    "plt.axvline(x = max_sentence_length, color = \"k\", linestyle = \"--\", label = \"Max Sentence Length\")\n",
    "plt.title(\"Sentence Length Distribution\")\n",
    "plt.legend()\n",
    "plt.show()"
   ]
  },
  {
   "cell_type": "code",
   "execution_count": 24,
   "metadata": {},
   "outputs": [
    {
     "data": {
      "application/vnd.jupyter.widget-view+json": {
       "model_id": "e73e0797ca28468eb1137a8eb55a9f98",
       "version_major": 2,
       "version_minor": 0
      },
      "text/plain": [
       "Batches:   0%|          | 0/44 [00:00<?, ?it/s]"
      ]
     },
     "metadata": {},
     "output_type": "display_data"
    }
   ],
   "source": [
    "# Convert Embedding\n",
    "encoded_sentence = model.encode(data_train['Nama Produk / Rincian'].tolist(), show_progress_bar = True)\n",
    "encoded_sentence = np.asarray(encoded_sentence.astype(\"float16\"))"
   ]
  },
  {
   "cell_type": "code",
   "execution_count": 25,
   "metadata": {},
   "outputs": [
    {
     "data": {
      "text/plain": [
       "(1390, 384)"
      ]
     },
     "execution_count": 25,
     "metadata": {},
     "output_type": "execute_result"
    }
   ],
   "source": [
    "# Check dimension\n",
    "encoded_sentence.shape"
   ]
  },
  {
   "cell_type": "code",
   "execution_count": 26,
   "metadata": {},
   "outputs": [],
   "source": [
    "# Create & Insert Index Faiss\n",
    "index = faiss.IndexIDMap(faiss.IndexFlatIP(384))\n",
    "index.add_with_ids(encoded_sentence, np.array(range(0, len(data_train))))\n",
    "faiss.write_index(index, \"corpus/reguler.index\")"
   ]
  },
  {
   "cell_type": "code",
   "execution_count": 27,
   "metadata": {},
   "outputs": [],
   "source": [
    "# Create function to indexing results\n",
    "def fetch_product(idx: int, query: str, df: pd.DataFrame = data_train_maps):\n",
    "    result = {}\n",
    "    result[\"query\"] = query\n",
    "    try:\n",
    "        info = df[idx]\n",
    "        result[\"nama_produk_terdekat\"]    = info['Nama Produk / Rincian']\n",
    "        result[\"prediksi_jenis\"] = info[\"Jenis Produk\"]\n",
    "        result[\"prediksi_kbli\"]  = info[\"Kode KBLI\"]\n",
    "        result[\"message\"]        = \"Prediction Success\"\n",
    "    except IndexError:\n",
    "        result[\"nama_produk_terdekat\"]    = \"\"\n",
    "        result[\"prediksi_jenis\"] = \"\"\n",
    "        result[\"prediksi_kbli\"]  = \"\"\n",
    "        result[\"message\"]        = \"Prediction Failed \"\n",
    "    return result\n",
    "\n",
    "def search(query: str, index_vector: object = index, model_embedding: object = model, mode: Union[\"Pred\", \"Eval\"] = \"Pred\", column_test: str = None):\n",
    "    query_vector = model_embedding.encode([query])\n",
    "    selected_idx = index_vector.search(query_vector, k = 1)\n",
    "    selected_idx = selected_idx[1].tolist()[0][0]\n",
    "    if mode == \"Pred\":\n",
    "        result = [fetch_product(selected_idx, query)]\n",
    "    if mode == \"Eval\":\n",
    "        if column_test is None:\n",
    "            raise Exception(f\"'column_test' should have parameter is using 'Eval' value in parameter 'mode'\")\n",
    "        result = data_train[column_test][selected_idx]\n",
    "    return result"
   ]
  },
  {
   "cell_type": "code",
   "execution_count": 28,
   "metadata": {},
   "outputs": [
    {
     "name": "stdout",
     "output_type": "stream",
     "text": [
      "[{'query': 'Kacang', 'nama_produk_terdekat': 'Kacang goyang', 'prediksi_jenis': 'Makanan ringan siap santap', 'prediksi_kbli': 10393, 'message': 'Prediction Success'}]\n",
      "CPU times: total: 31.2 ms\n",
      "Wall time: 14.6 ms\n"
     ]
    }
   ],
   "source": [
    "%%time\n",
    "# Test result\n",
    "nama_produk_test = \"Kacang\"\n",
    "result_prediction = search(nama_produk_test)\n",
    "\n",
    "print(result_prediction)"
   ]
  },
  {
   "cell_type": "code",
   "execution_count": 29,
   "metadata": {},
   "outputs": [],
   "source": [
    "# Load libraries \n",
    "from tqdm import tqdm\n",
    "from sklearn.metrics import accuracy_score"
   ]
  },
  {
   "cell_type": "code",
   "execution_count": 41,
   "metadata": {},
   "outputs": [],
   "source": [
    "# Load testing dataset - v3\n",
    "data_test = pd.read_excel(\"../dataset/v3/kbli_prediksi_jenis_testing_set_v2.xlsx\")"
   ]
  },
  {
   "cell_type": "code",
   "execution_count": 42,
   "metadata": {},
   "outputs": [
    {
     "data": {
      "text/plain": [
       "(278, 3)"
      ]
     },
     "execution_count": 42,
     "metadata": {},
     "output_type": "execute_result"
    }
   ],
   "source": [
    "# Check dimension\n",
    "data_test.shape"
   ]
  },
  {
   "cell_type": "code",
   "execution_count": 43,
   "metadata": {},
   "outputs": [
    {
     "data": {
      "text/html": [
       "<div>\n",
       "<style scoped>\n",
       "    .dataframe tbody tr th:only-of-type {\n",
       "        vertical-align: middle;\n",
       "    }\n",
       "\n",
       "    .dataframe tbody tr th {\n",
       "        vertical-align: top;\n",
       "    }\n",
       "\n",
       "    .dataframe thead th {\n",
       "        text-align: right;\n",
       "    }\n",
       "</style>\n",
       "<table border=\"1\" class=\"dataframe\">\n",
       "  <thead>\n",
       "    <tr style=\"text-align: right;\">\n",
       "      <th></th>\n",
       "      <th>Jenis Produk</th>\n",
       "      <th>Nama Produk / Rincian</th>\n",
       "      <th>Kode KBLI</th>\n",
       "    </tr>\n",
       "  </thead>\n",
       "  <tbody>\n",
       "    <tr>\n",
       "      <th>0</th>\n",
       "      <td>Buah dan sayur dengan pengolahan dan penambaha...</td>\n",
       "      <td>Buah olahan lainnya</td>\n",
       "      <td>10750</td>\n",
       "    </tr>\n",
       "    <tr>\n",
       "      <th>1</th>\n",
       "      <td>Serealia dan produk serealia yang  merupakan p...</td>\n",
       "      <td>Degermed maize (corn) meal</td>\n",
       "      <td>10615</td>\n",
       "    </tr>\n",
       "    <tr>\n",
       "      <th>2</th>\n",
       "      <td>Bahan tambahan pangan</td>\n",
       "      <td>Asam fumarat</td>\n",
       "      <td>20119</td>\n",
       "    </tr>\n",
       "    <tr>\n",
       "      <th>3</th>\n",
       "      <td>Daging dan produk olahan daging</td>\n",
       "      <td>Chicken katsu</td>\n",
       "      <td>10750</td>\n",
       "    </tr>\n",
       "    <tr>\n",
       "      <th>4</th>\n",
       "      <td>Daging dan produk olahan daging</td>\n",
       "      <td>Daging beku unggas atau mamalia</td>\n",
       "      <td>10130</td>\n",
       "    </tr>\n",
       "  </tbody>\n",
       "</table>\n",
       "</div>"
      ],
      "text/plain": [
       "                                        Jenis Produk  \\\n",
       "0  Buah dan sayur dengan pengolahan dan penambaha...   \n",
       "1  Serealia dan produk serealia yang  merupakan p...   \n",
       "2                              Bahan tambahan pangan   \n",
       "3                    Daging dan produk olahan daging   \n",
       "4                    Daging dan produk olahan daging   \n",
       "\n",
       "             Nama Produk / Rincian  Kode KBLI  \n",
       "0              Buah olahan lainnya      10750  \n",
       "1       Degermed maize (corn) meal      10615  \n",
       "2                     Asam fumarat      20119  \n",
       "3                    Chicken katsu      10750  \n",
       "4  Daging beku unggas atau mamalia      10130  "
      ]
     },
     "execution_count": 43,
     "metadata": {},
     "output_type": "execute_result"
    }
   ],
   "source": [
    "# Overview dataset\n",
    "data_test.head()"
   ]
  },
  {
   "cell_type": "code",
   "execution_count": 44,
   "metadata": {},
   "outputs": [
    {
     "data": {
      "text/plain": [
       "'Buah dan sayur dengan pengolahan dan penambahan bahan tambahan pangan'"
      ]
     },
     "execution_count": 44,
     "metadata": {},
     "output_type": "execute_result"
    }
   ],
   "source": [
    "search(\"Chutney mangga (mango chutney)\", mode = \"Eval\", column_test = \"Jenis Produk\")"
   ]
  },
  {
   "cell_type": "code",
   "execution_count": 46,
   "metadata": {},
   "outputs": [
    {
     "name": "stderr",
     "output_type": "stream",
     "text": [
      "Predictions: 100%|███████████████████████████████████████████████████████████████████| 278/278 [00:03<00:00, 72.76it/s]\n",
      "Predictions: 100%|███████████████████████████████████████████████████████████████████| 278/278 [00:03<00:00, 70.50it/s]\n"
     ]
    }
   ],
   "source": [
    "# Apply prediction\n",
    "predictions_jenis_produk = list(map(lambda x: search(x, mode = \"Eval\", column_test = \"Jenis Produk\"), tqdm(data_test['Nama Produk / Rincian'], desc = \"Predictions\")))\n",
    "predictions_kbli_produk  = list(map(lambda x: search(x, mode = \"Eval\", column_test = \"Kode KBLI\"), tqdm(data_test['Nama Produk / Rincian'], desc = \"Predictions\")))"
   ]
  },
  {
   "cell_type": "code",
   "execution_count": 47,
   "metadata": {},
   "outputs": [
    {
     "name": "stdout",
     "output_type": "stream",
     "text": [
      "Acc. Jenis Produk: 1.0\n",
      "Acc. Kode  KBLI  : 0.9784172661870504\n"
     ]
    }
   ],
   "source": [
    "# Evaluate Score\n",
    "print(f\"Acc. Jenis Produk: {accuracy_score(data_test['Jenis Produk'].tolist(), predictions_jenis_produk)}\")\n",
    "print(f\"Acc. Kode  KBLI  : {accuracy_score(data_test['Kode KBLI'].tolist(), predictions_kbli_produk)}\")"
   ]
  },
  {
   "cell_type": "code",
   "execution_count": null,
   "metadata": {},
   "outputs": [],
   "source": [
    "# Normalize \"Jenis Produk\"\n",
    "import json\n",
    "def _cleansing(jenis_produk: str) -> str:\n",
    "    return \" \".join(list(map(lambda x: x.strip(), jenis_produk.split())))\n",
    "\n",
    "\n",
    "data_train_maps_clean = []\n",
    "for row in data_train_maps:\n",
    "    row['Jenis Produk'] = _cleansing(row['Jenis Produk'])\n",
    "    data_train_maps_clean.append(row)"
   ]
  },
  {
   "cell_type": "code",
   "execution_count": 48,
   "metadata": {},
   "outputs": [],
   "source": [
    "# Save data_train as json\n",
    "json.dump(data_train_maps_clean, open(\"corpus/reguler.json\", \"w\"), indent = 4)"
   ]
  }
 ],
 "metadata": {
  "kernelspec": {
   "display_name": "Python 3 (ipykernel)",
   "language": "python",
   "name": "python3"
  },
  "language_info": {
   "codemirror_mode": {
    "name": "ipython",
    "version": 3
   },
   "file_extension": ".py",
   "mimetype": "text/x-python",
   "name": "python",
   "nbconvert_exporter": "python",
   "pygments_lexer": "ipython3",
   "version": "3.9.7"
  }
 },
 "nbformat": 4,
 "nbformat_minor": 2
}
