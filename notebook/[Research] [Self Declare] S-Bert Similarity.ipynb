{
 "cells": [
  {
   "cell_type": "code",
   "execution_count": 21,
   "metadata": {},
   "outputs": [],
   "source": [
    "# Install libraries\n",
    "# !pip install faiss-cpu"
   ]
  },
  {
   "cell_type": "code",
   "execution_count": 53,
   "metadata": {},
   "outputs": [],
   "source": [
    "# Load libraries \n",
    "import os\n",
    "import faiss\n",
    "import numpy as np\n",
    "import pandas as pd \n",
    "from time import time\n",
    "import seaborn as sns\n",
    "from typing import Union\n",
    "import matplotlib.pyplot as plt\n",
    "from sentence_transformers import SentenceTransformer"
   ]
  },
  {
   "cell_type": "code",
   "execution_count": 11,
   "metadata": {},
   "outputs": [],
   "source": [
    "# Set visualisation style\n",
    "plt.style.use(\"ggplot\")"
   ]
  },
  {
   "cell_type": "code",
   "execution_count": null,
   "metadata": {},
   "outputs": [],
   "source": [
    "# Load pretrained model \n",
    "model = SentenceTransformer(\"msmarco-MiniLM-L-6-v3\")"
   ]
  },
  {
   "cell_type": "code",
   "execution_count": 112,
   "metadata": {},
   "outputs": [],
   "source": [
    "# Load training dataset - v1\n",
    "data_train = pd.read_excel(\"../dataset/v1/enrichment_kbli_prediksi_jenis_training_set.xlsx\")\n",
    "data_test = pd.read_excel(\"../dataset/v1/enrichment_kbli_prediksi_jenis_testing_set.xlsx\")"
   ]
  },
  {
   "cell_type": "code",
   "execution_count": 113,
   "metadata": {},
   "outputs": [],
   "source": [
    "# Concat dataset and remove duplicate\n",
    "data_train = pd.concat([data_train, data_test]).drop_duplicates().reset_index()"
   ]
  },
  {
   "cell_type": "code",
   "execution_count": 114,
   "metadata": {},
   "outputs": [],
   "source": [
    "# Create training dataset into hashmaps\n",
    "data_train_maps = data_train.to_dict(\"records\")"
   ]
  },
  {
   "cell_type": "code",
   "execution_count": 115,
   "metadata": {},
   "outputs": [
    {
     "data": {
      "text/html": [
       "<div>\n",
       "<style scoped>\n",
       "    .dataframe tbody tr th:only-of-type {\n",
       "        vertical-align: middle;\n",
       "    }\n",
       "\n",
       "    .dataframe tbody tr th {\n",
       "        vertical-align: top;\n",
       "    }\n",
       "\n",
       "    .dataframe thead th {\n",
       "        text-align: right;\n",
       "    }\n",
       "</style>\n",
       "<table border=\"1\" class=\"dataframe\">\n",
       "  <thead>\n",
       "    <tr style=\"text-align: right;\">\n",
       "      <th></th>\n",
       "      <th>index</th>\n",
       "      <th>Jenis Produk</th>\n",
       "      <th>Nama Produk / Rincian</th>\n",
       "      <th>Kode KBLI</th>\n",
       "    </tr>\n",
       "  </thead>\n",
       "  <tbody>\n",
       "    <tr>\n",
       "      <th>0</th>\n",
       "      <td>0</td>\n",
       "      <td>Makanan ringan siap santap</td>\n",
       "      <td>KACANG BAWANG KACANGKU QUALITY PUNCAK</td>\n",
       "      <td>10750</td>\n",
       "    </tr>\n",
       "    <tr>\n",
       "      <th>1</th>\n",
       "      <td>1</td>\n",
       "      <td>Produk bakeri</td>\n",
       "      <td>Roti burger Hitam</td>\n",
       "      <td>10710</td>\n",
       "    </tr>\n",
       "    <tr>\n",
       "      <th>2</th>\n",
       "      <td>2</td>\n",
       "      <td>Serealia dan produk serealia yang merupakan pr...</td>\n",
       "      <td>Nasi jagung original</td>\n",
       "      <td>10615</td>\n",
       "    </tr>\n",
       "    <tr>\n",
       "      <th>3</th>\n",
       "      <td>3</td>\n",
       "      <td>Produk bakeri</td>\n",
       "      <td>Onde-Onde Mekar Merek Aqila Cookies</td>\n",
       "      <td>10710</td>\n",
       "    </tr>\n",
       "    <tr>\n",
       "      <th>4</th>\n",
       "      <td>4</td>\n",
       "      <td>Ikan dan produk perikanan, termasuk moluska, k...</td>\n",
       "      <td>Ikan Pindang Layang</td>\n",
       "      <td>10211</td>\n",
       "    </tr>\n",
       "  </tbody>\n",
       "</table>\n",
       "</div>"
      ],
      "text/plain": [
       "   index                                       Jenis Produk  \\\n",
       "0      0                         Makanan ringan siap santap   \n",
       "1      1                                      Produk bakeri   \n",
       "2      2  Serealia dan produk serealia yang merupakan pr...   \n",
       "3      3                                      Produk bakeri   \n",
       "4      4  Ikan dan produk perikanan, termasuk moluska, k...   \n",
       "\n",
       "                   Nama Produk / Rincian  Kode KBLI  \n",
       "0  KACANG BAWANG KACANGKU QUALITY PUNCAK      10750  \n",
       "1                      Roti burger Hitam      10710  \n",
       "2                   Nasi jagung original      10615  \n",
       "3   Onde-Onde Mekar Merek Aqila Cookies       10710  \n",
       "4                    Ikan Pindang Layang      10211  "
      ]
     },
     "execution_count": 115,
     "metadata": {},
     "output_type": "execute_result"
    }
   ],
   "source": [
    "# Overview dataset\n",
    "data_train.head()"
   ]
  },
  {
   "cell_type": "code",
   "execution_count": 116,
   "metadata": {},
   "outputs": [
    {
     "data": {
      "text/plain": [
       "(77526, 4)"
      ]
     },
     "execution_count": 116,
     "metadata": {},
     "output_type": "execute_result"
    }
   ],
   "source": [
    "# Check dimension\n",
    "data_train.shape"
   ]
  },
  {
   "cell_type": "code",
   "execution_count": 117,
   "metadata": {},
   "outputs": [
    {
     "data": {
      "text/plain": [
       "index                    0\n",
       "Jenis Produk             0\n",
       "Nama Produk / Rincian    0\n",
       "Kode KBLI                0\n",
       "dtype: int64"
      ]
     },
     "execution_count": 117,
     "metadata": {},
     "output_type": "execute_result"
    }
   ],
   "source": [
    "# Overview missing values\n",
    "data_train.isna().sum()"
   ]
  },
  {
   "cell_type": "code",
   "execution_count": 118,
   "metadata": {},
   "outputs": [],
   "source": [
    "# Overview Sentence Length\n",
    "sentence_length = data_train['Nama Produk / Rincian'].apply(\n",
    "    lambda sentence: len(sentence.split())\n",
    ").tolist()\n",
    "max_sentence_length = np.round(np.mean(sentence_length) + np.std(sentence_length)).astype(\"int\")"
   ]
  },
  {
   "cell_type": "code",
   "execution_count": 119,
   "metadata": {},
   "outputs": [
    {
     "name": "stderr",
     "output_type": "stream",
     "text": [
      "C:\\Users\\alif\\anaconda3\\envs\\test\\lib\\site-packages\\seaborn\\distributions.py:2619: FutureWarning: `distplot` is a deprecated function and will be removed in a future version. Please adapt your code to use either `displot` (a figure-level function with similar flexibility) or `histplot` (an axes-level function for histograms).\n",
      "  warnings.warn(msg, FutureWarning)\n"
     ]
    },
    {
     "data": {
      "image/png": "[encoded data removed]",
      "text/plain": [
       "<Figure size 1440x360 with 1 Axes>"
      ]
     },
     "metadata": {
      "needs_background": "light"
     },
     "output_type": "display_data"
    }
   ],
   "source": [
    "# Visualize density of sentence length distribution\n",
    "plt.figure(figsize = (20, 5))\n",
    "sns.distplot(sentence_length, hist = True, kde = True, color = \"blue\", label = \"Sentence Length\")\n",
    "plt.axvline(x = max_sentence_length, color = \"k\", linestyle = \"--\", label = \"Max Sentence Length\")\n",
    "plt.title(\"Sentence Length Distribution\")\n",
    "plt.legend()\n",
    "plt.show()"
   ]
  },
  {
   "cell_type": "code",
   "execution_count": 120,
   "metadata": {},
   "outputs": [
    {
     "data": {
      "application/vnd.jupyter.widget-view+json": {
       "model_id": "d6ff2457337a4e9395d67770be115de4",
       "version_major": 2,
       "version_minor": 0
      },
      "text/plain": [
       "Batches:   0%|          | 0/2423 [00:00<?, ?it/s]"
      ]
     },
     "metadata": {},
     "output_type": "display_data"
    }
   ],
   "source": [
    "# Convert Embedding\n",
    "encoded_sentence = model.encode(data_train['Nama Produk / Rincian'].tolist(), show_progress_bar = True)\n",
    "encoded_sentence = np.asarray(encoded_sentence.astype(\"float16\"))"
   ]
  },
  {
   "cell_type": "code",
   "execution_count": 121,
   "metadata": {},
   "outputs": [
    {
     "data": {
      "text/plain": [
       "(77526, 384)"
      ]
     },
     "execution_count": 121,
     "metadata": {},
     "output_type": "execute_result"
    }
   ],
   "source": [
    "# Check dimension\n",
    "encoded_sentence.shape"
   ]
  },
  {
   "cell_type": "code",
   "execution_count": 139,
   "metadata": {},
   "outputs": [],
   "source": [
    "# Create & Insert Index Faiss\n",
    "index = faiss.IndexIDMap(faiss.IndexFlatIP(384))\n",
    "index.add_with_ids(encoded_sentence, np.array(range(0, len(data_train))))\n",
    "faiss.write_index(index, \"corpus/self-declare.index\")"
   ]
  },
  {
   "cell_type": "code",
   "execution_count": 123,
   "metadata": {},
   "outputs": [],
   "source": [
    "# Create function to indexing results\n",
    "def fetch_product(idx: int, query: str, df: pd.DataFrame = data_train_maps):\n",
    "    result = {}\n",
    "    result[\"query\"] = query\n",
    "    try:\n",
    "        info = df[idx]\n",
    "        result[\"nama_produk_terdekat\"]    = info['Nama Produk / Rincian']\n",
    "        result[\"prediksi_jenis\"] = info[\"Jenis Produk\"]\n",
    "        result[\"prediksi_kbli\"]  = info[\"Kode KBLI\"]\n",
    "        result[\"message\"]        = \"Prediction Success\"\n",
    "    except IndexError:\n",
    "        result[\"nama_produk_terdekat\"]    = \"\"\n",
    "        result[\"prediksi_jenis\"] = \"\"\n",
    "        result[\"prediksi_kbli\"]  = \"\"\n",
    "        result[\"message\"]        = \"Prediction Failed \"\n",
    "    return result\n",
    "\n",
    "def search(query: str, index_vector: object = index, model_embedding: object = model, mode: Union[\"Pred\", \"Eval\"] = \"Pred\", column_test: str = None):\n",
    "    query_vector = model_embedding.encode([query])\n",
    "    selected_idx = index_vector.search(query_vector, k = 1)\n",
    "    selected_idx = selected_idx[1].tolist()[0][0]\n",
    "    if mode == \"Pred\":\n",
    "        result = [fetch_product(selected_idx, query)]\n",
    "    if mode == \"Eval\":\n",
    "        if column_test is None:\n",
    "            raise Exception(f\"'column_test' should have parameter is using 'Eval' value in parameter 'mode'\")\n",
    "        result = data_train[column_test][selected_idx]\n",
    "    return result"
   ]
  },
  {
   "cell_type": "code",
   "execution_count": 133,
   "metadata": {},
   "outputs": [
    {
     "name": "stdout",
     "output_type": "stream",
     "text": [
      "[{'query': 'Kacang 2 Kelinci', 'nama_produk_terdekat': 'KACANG KELINCI', 'prediksi_jenis': 'Makanan ringan siap santap', 'prediksi_kbli': 10793, 'message': 'Prediction Success'}]\n",
      "CPU times: total: 78.1 ms\n",
      "Wall time: 28.9 ms\n"
     ]
    }
   ],
   "source": [
    "%%time\n",
    "# Test result\n",
    "nama_produk_test = \"Kacang 2 Kelinci\"\n",
    "result_prediction = search(nama_produk_test)\n",
    "\n",
    "print(result_prediction)"
   ]
  },
  {
   "cell_type": "code",
   "execution_count": 125,
   "metadata": {},
   "outputs": [],
   "source": [
    "# Load libraries \n",
    "from tqdm import tqdm\n",
    "from sklearn.metrics import accuracy_score"
   ]
  },
  {
   "cell_type": "code",
   "execution_count": 126,
   "metadata": {},
   "outputs": [],
   "source": [
    "# Load testing dataset - v1\n",
    "data_test = pd.read_excel(\"../dataset/v1/enrichment_kbli_prediksi_jenis_testing_set.xlsx\")"
   ]
  },
  {
   "cell_type": "code",
   "execution_count": 127,
   "metadata": {},
   "outputs": [
    {
     "data": {
      "text/plain": [
       "(15506, 3)"
      ]
     },
     "execution_count": 127,
     "metadata": {},
     "output_type": "execute_result"
    }
   ],
   "source": [
    "# Check dimension\n",
    "data_test.shape"
   ]
  },
  {
   "cell_type": "code",
   "execution_count": 128,
   "metadata": {},
   "outputs": [
    {
     "data": {
      "text/html": [
       "<div>\n",
       "<style scoped>\n",
       "    .dataframe tbody tr th:only-of-type {\n",
       "        vertical-align: middle;\n",
       "    }\n",
       "\n",
       "    .dataframe tbody tr th {\n",
       "        vertical-align: top;\n",
       "    }\n",
       "\n",
       "    .dataframe thead th {\n",
       "        text-align: right;\n",
       "    }\n",
       "</style>\n",
       "<table border=\"1\" class=\"dataframe\">\n",
       "  <thead>\n",
       "    <tr style=\"text-align: right;\">\n",
       "      <th></th>\n",
       "      <th>Jenis Produk</th>\n",
       "      <th>Nama Produk / Rincian</th>\n",
       "      <th>Kode KBLI</th>\n",
       "    </tr>\n",
       "  </thead>\n",
       "  <tbody>\n",
       "    <tr>\n",
       "      <th>0</th>\n",
       "      <td>Produk bakeri</td>\n",
       "      <td>serabi yun</td>\n",
       "      <td>10792</td>\n",
       "    </tr>\n",
       "    <tr>\n",
       "      <th>1</th>\n",
       "      <td>Produk bakeri</td>\n",
       "      <td>BOLU LIPAT BIKEZ COOKIES &amp; SNACK</td>\n",
       "      <td>10710</td>\n",
       "    </tr>\n",
       "    <tr>\n",
       "      <th>2</th>\n",
       "      <td>Telur olahan dan produk- produk telur hasil ol...</td>\n",
       "      <td>Bihun Telur Ceplok</td>\n",
       "      <td>10799</td>\n",
       "    </tr>\n",
       "    <tr>\n",
       "      <th>3</th>\n",
       "      <td>Produk bakeri</td>\n",
       "      <td>Floshroll abon sabrila cake</td>\n",
       "      <td>10710</td>\n",
       "    </tr>\n",
       "    <tr>\n",
       "      <th>4</th>\n",
       "      <td>Minuman dengan pengolahan</td>\n",
       "      <td>Es susu coklat</td>\n",
       "      <td>10590</td>\n",
       "    </tr>\n",
       "  </tbody>\n",
       "</table>\n",
       "</div>"
      ],
      "text/plain": [
       "                                        Jenis Produk  \\\n",
       "0                                      Produk bakeri   \n",
       "1                                      Produk bakeri   \n",
       "2  Telur olahan dan produk- produk telur hasil ol...   \n",
       "3                                      Produk bakeri   \n",
       "4                          Minuman dengan pengolahan   \n",
       "\n",
       "              Nama Produk / Rincian  Kode KBLI  \n",
       "0                       serabi yun       10792  \n",
       "1  BOLU LIPAT BIKEZ COOKIES & SNACK      10710  \n",
       "2                Bihun Telur Ceplok      10799  \n",
       "3      Floshroll abon sabrila cake       10710  \n",
       "4                   Es susu coklat       10590  "
      ]
     },
     "execution_count": 128,
     "metadata": {},
     "output_type": "execute_result"
    }
   ],
   "source": [
    "# Overview dataset\n",
    "data_test.head()"
   ]
  },
  {
   "cell_type": "code",
   "execution_count": 129,
   "metadata": {},
   "outputs": [
    {
     "name": "stderr",
     "output_type": "stream",
     "text": [
      "Predictions: 100%|███████████████████████████████████████████████████████████████| 15506/15506 [06:16<00:00, 41.18it/s]\n",
      "Predictions: 100%|███████████████████████████████████████████████████████████████| 15506/15506 [06:06<00:00, 42.35it/s]\n"
     ]
    }
   ],
   "source": [
    "# Apply prediction\n",
    "predictions_jenis_produk = list(map(lambda x: search(x, mode = \"Eval\", column_test = \"Jenis Produk\"), tqdm(data_test['Nama Produk / Rincian'], desc = \"Predictions\")))\n",
    "predictions_kbli_produk  = list(map(lambda x: search(x, mode = \"Eval\", column_test = \"Kode KBLI\"), tqdm(data_test['Nama Produk / Rincian'], desc = \"Predictions\")))"
   ]
  },
  {
   "cell_type": "code",
   "execution_count": 130,
   "metadata": {},
   "outputs": [
    {
     "name": "stdout",
     "output_type": "stream",
     "text": [
      "Acc. Jenis Produk: 0.9947762156584548\n",
      "Acc. Kode  KBLI  : 0.9892944666580679\n"
     ]
    }
   ],
   "source": [
    "# Evaluate Score\n",
    "print(f\"Acc. Jenis Produk: {accuracy_score(data_test['Jenis Produk'].tolist(), predictions_jenis_produk)}\")\n",
    "print(f\"Acc. Kode  KBLI  : {accuracy_score(data_test['Kode KBLI'].tolist(), predictions_kbli_produk)}\")"
   ]
  },
  {
   "cell_type": "code",
   "execution_count": 137,
   "metadata": {},
   "outputs": [],
   "source": [
    "# Save data_train as json\n",
    "import json\n",
    "json.dump(data_train_maps, open(\"corpus/self-declare.json\", \"w\"), indent = 4)"
   ]
  }
 ],
 "metadata": {
  "kernelspec": {
   "display_name": "Python 3 (ipykernel)",
   "language": "python",
   "name": "python3"
  },
  "orig_nbformat": 4
 },
 "nbformat": 4,
 "nbformat_minor": 2
}
